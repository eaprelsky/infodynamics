{
  "cells": [
    {
      "cell_type": "code",
      "execution_count": null,
      "metadata": {
        "vscode": {
          "languageId": "plaintext"
        }
      },
      "outputs": [],
      "source": [
        "# Attention Flow Network Simulator\n",
        "\n",
        "*Interactive exploration of how information flows through attention networks*\n",
        "\n",
        "This notebook lets you design and test different attention network architectures to understand how information conductance affects cognitive performance.\n",
        "\n",
        "## Key Concepts\n",
        "\n",
        "- **Attention Networks**: The brain's three primary attention systems (alerting, orienting, executive)\n",
        "- **Information Conductance**: How easily information flows through cognitive networks  \n",
        "- **Network Architecture**: The structure of connections between processing nodes\n",
        "\n",
        "## Interactive Demonstrations\n",
        "\n",
        "### 1. Single vs. Parallel Attention Pathways\n",
        "Compare performance when information flows through single channels vs. parallel networks.\n"
      ]
    }
  ],
  "metadata": {
    "language_info": {
      "name": "python"
    }
  },
  "nbformat": 4,
  "nbformat_minor": 2
}
