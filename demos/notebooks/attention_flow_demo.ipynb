{
 "cells": [
  {
   "cell_type": "code",
   "execution_count": 2,
   "metadata": {
    "vscode": {
     "languageId": "plaintext"
    }
   },
   "outputs": [
    {
     "ename": "SyntaxError",
     "evalue": "unterminated string literal (detected at line 9) (110049626.py, line 9)",
     "output_type": "error",
     "traceback": [
      "  \u001b[36mCell\u001b[39m\u001b[36m \u001b[39m\u001b[32mIn[2]\u001b[39m\u001b[32m, line 9\u001b[39m\n\u001b[31m    \u001b[39m\u001b[31m- **Attention Networks**: The brain's three primary attention systems (alerting, orienting, executive)\u001b[39m\n                                       ^\n\u001b[31mSyntaxError\u001b[39m\u001b[31m:\u001b[39m unterminated string literal (detected at line 9)\n"
     ]
    }
   ],
   "source": [
    "# Attention Flow Network Simulator\n",
    "\n",
    "*Interactive exploration of how information flows through attention networks*\n",
    "\n",
    "This notebook lets you design and test different attention network architectures to understand how information conductance affects cognitive performance.\n",
    "\n",
    "## Key Concepts\n",
    "\n",
    "- **Attention Networks**: The brain's three primary attention systems (alerting, orienting, executive)\n",
    "- **Information Conductance**: How easily information flows through cognitive networks  \n",
    "- **Network Architecture**: The structure of connections between processing nodes\n",
    "\n",
    "## Interactive Demonstrations\n",
    "\n",
    "### 1. Single vs. Parallel Attention Pathways\n",
    "Compare performance when information flows through single channels vs. parallel networks.\n"
   ]
  },
  {
   "cell_type": "code",
   "execution_count": null,
   "metadata": {},
   "outputs": [],
   "source": []
  }
 ],
 "metadata": {
  "kernelspec": {
   "display_name": "Information Dynamics",
   "language": "python",
   "name": "info-dynamics"
  },
  "language_info": {
   "codemirror_mode": {
    "name": "ipython",
    "version": 3
   },
   "file_extension": ".py",
   "mimetype": "text/x-python",
   "name": "python",
   "nbconvert_exporter": "python",
   "pygments_lexer": "ipython3",
   "version": "3.11.13"
  }
 },
 "nbformat": 4,
 "nbformat_minor": 4
}
