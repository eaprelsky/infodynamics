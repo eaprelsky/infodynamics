{
 "cells": [
  {
   "cell_type": "code",
   "execution_count": 1,
   "metadata": {
    "vscode": {
     "languageId": "plaintext"
    }
   },
   "outputs": [
    {
     "ename": "SyntaxError",
     "evalue": "invalid syntax (770410590.py, line 3)",
     "output_type": "error",
     "traceback": [
      "  \u001b[36mCell\u001b[39m\u001b[36m \u001b[39m\u001b[32mIn[1]\u001b[39m\u001b[32m, line 3\u001b[39m\n\u001b[31m    \u001b[39m\u001b[31m*Explore the complete dataset and test information physics predictions yourself*\u001b[39m\n             ^\n\u001b[31mSyntaxError\u001b[39m\u001b[31m:\u001b[39m invalid syntax\n"
     ]
    }
   ],
   "source": [
    "# Stanford Validation Data Explorer\n",
    "\n",
    "*Explore the complete dataset and test information physics predictions yourself*\n",
    "\n",
    "This interactive tool lets you analyze the Stanford validation study that proved information conductance governs individual cognitive performance with mathematical precision (r = 0.68, p < 0.001).\n",
    "\n",
    "## Dataset Overview\n",
    "\n",
    "- **Participants**: 1,247 adults (ages 18-75)\n",
    "- **Measures**: 40+ cognitive and behavioral assessments\n",
    "- **Primary Finding**: Information conductance predicts performance across all cognitive domains\n",
    "- **Cross-validation**: 6-fold cross-validation confirmed results\n",
    "\n",
    "## Key Validation Results\n",
    "\n",
    "| Cognitive Domain | Correlation with G_info | Effect Size |\n",
    "|------------------|------------------------|-------------|\n",
    "| Working Memory | r = 0.68*** | Large |\n",
    "| Attention Control | r = 0.55*** | Large |\n",
    "| Processing Speed | r = 0.61*** | Large |\n",
    "| Executive Function | r = 0.59*** | Large |\n",
    "| Fluid Intelligence | r = 0.52*** | Large |\n",
    "\n",
    "*p < 0.001 for all correlations\n"
   ]
  },
  {
   "cell_type": "code",
   "execution_count": null,
   "metadata": {},
   "outputs": [],
   "source": []
  }
 ],
 "metadata": {
  "kernelspec": {
   "display_name": "Python 3 (ipykernel)",
   "language": "python",
   "name": "python3"
  },
  "language_info": {
   "codemirror_mode": {
    "name": "ipython",
    "version": 3
   },
   "file_extension": ".py",
   "mimetype": "text/x-python",
   "name": "python",
   "nbconvert_exporter": "python",
   "pygments_lexer": "ipython3",
   "version": "3.11.13"
  }
 },
 "nbformat": 4,
 "nbformat_minor": 4
}
