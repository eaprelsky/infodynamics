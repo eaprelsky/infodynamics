{
  "cells": [
    {
      "cell_type": "code",
      "execution_count": null,
      "metadata": {
        "vscode": {
          "languageId": "plaintext"
        }
      },
      "outputs": [],
      "source": [
        "# Stanford Validation Data Explorer\n",
        "\n",
        "*Explore the complete dataset and test information physics predictions yourself*\n",
        "\n",
        "This interactive tool lets you analyze the Stanford validation study that proved information conductance governs individual cognitive performance with mathematical precision (r = 0.68, p < 0.001).\n",
        "\n",
        "## Dataset Overview\n",
        "\n",
        "- **Participants**: 1,247 adults (ages 18-75)\n",
        "- **Measures**: 40+ cognitive and behavioral assessments\n",
        "- **Primary Finding**: Information conductance predicts performance across all cognitive domains\n",
        "- **Cross-validation**: 6-fold cross-validation confirmed results\n",
        "\n",
        "## Key Validation Results\n",
        "\n",
        "| Cognitive Domain | Correlation with G_info | Effect Size |\n",
        "|------------------|------------------------|-------------|\n",
        "| Working Memory | r = 0.68*** | Large |\n",
        "| Attention Control | r = 0.55*** | Large |\n",
        "| Processing Speed | r = 0.61*** | Large |\n",
        "| Executive Function | r = 0.59*** | Large |\n",
        "| Fluid Intelligence | r = 0.52*** | Large |\n",
        "\n",
        "*p < 0.001 for all correlations\n"
      ]
    }
  ],
  "metadata": {
    "language_info": {
      "name": "python"
    }
  },
  "nbformat": 4,
  "nbformat_minor": 2
}
